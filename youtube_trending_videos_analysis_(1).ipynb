{
  "cells": [
    {
      "cell_type": "markdown",
      "metadata": {
        "id": "view-in-github",
        "colab_type": "text"
      },
      "source": [
        "<a href=\"https://colab.research.google.com/github/kristinkx/KristinKX/blob/main/youtube_trending_videos_analysis_(1).ipynb\" target=\"_parent\"><img src=\"https://colab.research.google.com/assets/colab-badge.svg\" alt=\"Open In Colab\"/></a>"
      ]
    },
    {
      "cell_type": "code",
      "execution_count": null,
      "metadata": {
        "id": "SNOj53QH5Ahk"
      },
      "outputs": [],
      "source": [
        "# This Python 3 environment comes with many helpful analytics libraries installed\n",
        "# It is defined by the kaggle/python Docker image: https://github.com/kaggle/docker-python\n",
        "# For example, here's several helpful packages to load\n",
        "\n",
        "import numpy as np # linear algebra\n",
        "import pandas as pd # data processing, CSV file I/O (e.g. pd.read_csv)\n",
        "\n",
        "# Input data files are available in the read-only \"../input/\" directory\n",
        "# For example, running this (by clicking run or pressing Shift+Enter) will list all files under the input directory\n",
        "\n",
        "import os\n",
        "for dirname, _, filenames in os.walk('/kaggle/input'):\n",
        "    for filename in filenames:\n",
        "        print(os.path.join(dirname, filename))\n",
        "\n",
        "# You can write up to 20GB to the current directory (/kaggle/working/) that gets preserved as output when you create a version using \"Save & Run All\" \n",
        "# You can also write temporary files to /kaggle/temp/, but they won't be saved outside of the current session"
      ]
    },
    {
      "cell_type": "code",
      "execution_count": null,
      "metadata": {
        "colab": {
          "background_save": true,
          "base_uri": "https://localhost:8080/",
          "height": 39
        },
        "id": "EZ07CjMu7PRJ",
        "outputId": "adfe307a-0156-4397-ba0d-ac2d987f61d6"
      },
      "outputs": [
        {
          "data": {
            "text/html": [
              "\n",
              "     <input type=\"file\" id=\"files-f7766373-1af2-400e-b73d-fc35a1f9d7f1\" name=\"files[]\" multiple disabled\n",
              "        style=\"border:none\" />\n",
              "     <output id=\"result-f7766373-1af2-400e-b73d-fc35a1f9d7f1\">\n",
              "      Upload widget is only available when the cell has been executed in the\n",
              "      current browser session. Please rerun this cell to enable.\n",
              "      </output>\n",
              "      <script>// Copyright 2017 Google LLC\n",
              "//\n",
              "// Licensed under the Apache License, Version 2.0 (the \"License\");\n",
              "// you may not use this file except in compliance with the License.\n",
              "// You may obtain a copy of the License at\n",
              "//\n",
              "//      http://www.apache.org/licenses/LICENSE-2.0\n",
              "//\n",
              "// Unless required by applicable law or agreed to in writing, software\n",
              "// distributed under the License is distributed on an \"AS IS\" BASIS,\n",
              "// WITHOUT WARRANTIES OR CONDITIONS OF ANY KIND, either express or implied.\n",
              "// See the License for the specific language governing permissions and\n",
              "// limitations under the License.\n",
              "\n",
              "/**\n",
              " * @fileoverview Helpers for google.colab Python module.\n",
              " */\n",
              "(function(scope) {\n",
              "function span(text, styleAttributes = {}) {\n",
              "  const element = document.createElement('span');\n",
              "  element.textContent = text;\n",
              "  for (const key of Object.keys(styleAttributes)) {\n",
              "    element.style[key] = styleAttributes[key];\n",
              "  }\n",
              "  return element;\n",
              "}\n",
              "\n",
              "// Max number of bytes which will be uploaded at a time.\n",
              "const MAX_PAYLOAD_SIZE = 100 * 1024;\n",
              "\n",
              "function _uploadFiles(inputId, outputId) {\n",
              "  const steps = uploadFilesStep(inputId, outputId);\n",
              "  const outputElement = document.getElementById(outputId);\n",
              "  // Cache steps on the outputElement to make it available for the next call\n",
              "  // to uploadFilesContinue from Python.\n",
              "  outputElement.steps = steps;\n",
              "\n",
              "  return _uploadFilesContinue(outputId);\n",
              "}\n",
              "\n",
              "// This is roughly an async generator (not supported in the browser yet),\n",
              "// where there are multiple asynchronous steps and the Python side is going\n",
              "// to poll for completion of each step.\n",
              "// This uses a Promise to block the python side on completion of each step,\n",
              "// then passes the result of the previous step as the input to the next step.\n",
              "function _uploadFilesContinue(outputId) {\n",
              "  const outputElement = document.getElementById(outputId);\n",
              "  const steps = outputElement.steps;\n",
              "\n",
              "  const next = steps.next(outputElement.lastPromiseValue);\n",
              "  return Promise.resolve(next.value.promise).then((value) => {\n",
              "    // Cache the last promise value to make it available to the next\n",
              "    // step of the generator.\n",
              "    outputElement.lastPromiseValue = value;\n",
              "    return next.value.response;\n",
              "  });\n",
              "}\n",
              "\n",
              "/**\n",
              " * Generator function which is called between each async step of the upload\n",
              " * process.\n",
              " * @param {string} inputId Element ID of the input file picker element.\n",
              " * @param {string} outputId Element ID of the output display.\n",
              " * @return {!Iterable<!Object>} Iterable of next steps.\n",
              " */\n",
              "function* uploadFilesStep(inputId, outputId) {\n",
              "  const inputElement = document.getElementById(inputId);\n",
              "  inputElement.disabled = false;\n",
              "\n",
              "  const outputElement = document.getElementById(outputId);\n",
              "  outputElement.innerHTML = '';\n",
              "\n",
              "  const pickedPromise = new Promise((resolve) => {\n",
              "    inputElement.addEventListener('change', (e) => {\n",
              "      resolve(e.target.files);\n",
              "    });\n",
              "  });\n",
              "\n",
              "  const cancel = document.createElement('button');\n",
              "  inputElement.parentElement.appendChild(cancel);\n",
              "  cancel.textContent = 'Cancel upload';\n",
              "  const cancelPromise = new Promise((resolve) => {\n",
              "    cancel.onclick = () => {\n",
              "      resolve(null);\n",
              "    };\n",
              "  });\n",
              "\n",
              "  // Wait for the user to pick the files.\n",
              "  const files = yield {\n",
              "    promise: Promise.race([pickedPromise, cancelPromise]),\n",
              "    response: {\n",
              "      action: 'starting',\n",
              "    }\n",
              "  };\n",
              "\n",
              "  cancel.remove();\n",
              "\n",
              "  // Disable the input element since further picks are not allowed.\n",
              "  inputElement.disabled = true;\n",
              "\n",
              "  if (!files) {\n",
              "    return {\n",
              "      response: {\n",
              "        action: 'complete',\n",
              "      }\n",
              "    };\n",
              "  }\n",
              "\n",
              "  for (const file of files) {\n",
              "    const li = document.createElement('li');\n",
              "    li.append(span(file.name, {fontWeight: 'bold'}));\n",
              "    li.append(span(\n",
              "        `(${file.type || 'n/a'}) - ${file.size} bytes, ` +\n",
              "        `last modified: ${\n",
              "            file.lastModifiedDate ? file.lastModifiedDate.toLocaleDateString() :\n",
              "                                    'n/a'} - `));\n",
              "    const percent = span('0% done');\n",
              "    li.appendChild(percent);\n",
              "\n",
              "    outputElement.appendChild(li);\n",
              "\n",
              "    const fileDataPromise = new Promise((resolve) => {\n",
              "      const reader = new FileReader();\n",
              "      reader.onload = (e) => {\n",
              "        resolve(e.target.result);\n",
              "      };\n",
              "      reader.readAsArrayBuffer(file);\n",
              "    });\n",
              "    // Wait for the data to be ready.\n",
              "    let fileData = yield {\n",
              "      promise: fileDataPromise,\n",
              "      response: {\n",
              "        action: 'continue',\n",
              "      }\n",
              "    };\n",
              "\n",
              "    // Use a chunked sending to avoid message size limits. See b/62115660.\n",
              "    let position = 0;\n",
              "    do {\n",
              "      const length = Math.min(fileData.byteLength - position, MAX_PAYLOAD_SIZE);\n",
              "      const chunk = new Uint8Array(fileData, position, length);\n",
              "      position += length;\n",
              "\n",
              "      const base64 = btoa(String.fromCharCode.apply(null, chunk));\n",
              "      yield {\n",
              "        response: {\n",
              "          action: 'append',\n",
              "          file: file.name,\n",
              "          data: base64,\n",
              "        },\n",
              "      };\n",
              "\n",
              "      let percentDone = fileData.byteLength === 0 ?\n",
              "          100 :\n",
              "          Math.round((position / fileData.byteLength) * 100);\n",
              "      percent.textContent = `${percentDone}% done`;\n",
              "\n",
              "    } while (position < fileData.byteLength);\n",
              "  }\n",
              "\n",
              "  // All done.\n",
              "  yield {\n",
              "    response: {\n",
              "      action: 'complete',\n",
              "    }\n",
              "  };\n",
              "}\n",
              "\n",
              "scope.google = scope.google || {};\n",
              "scope.google.colab = scope.google.colab || {};\n",
              "scope.google.colab._files = {\n",
              "  _uploadFiles,\n",
              "  _uploadFilesContinue,\n",
              "};\n",
              "})(self);\n",
              "</script> "
            ],
            "text/plain": [
              "<IPython.core.display.HTML object>"
            ]
          },
          "metadata": {},
          "output_type": "display_data"
        },
        {
          "ename": "TypeError",
          "evalue": "ignored",
          "output_type": "error",
          "traceback": [
            "\u001b[0;31m---------------------------------------------------------------------------\u001b[0m",
            "\u001b[0;31mTypeError\u001b[0m                                 Traceback (most recent call last)",
            "\u001b[0;32m<ipython-input-51-21dc3c638f66>\u001b[0m in \u001b[0;36m<module>\u001b[0;34m\u001b[0m\n\u001b[1;32m      1\u001b[0m \u001b[0;32mfrom\u001b[0m \u001b[0mgoogle\u001b[0m\u001b[0;34m.\u001b[0m\u001b[0mcolab\u001b[0m \u001b[0;32mimport\u001b[0m \u001b[0mfiles\u001b[0m\u001b[0;34m\u001b[0m\u001b[0;34m\u001b[0m\u001b[0m\n\u001b[0;32m----> 2\u001b[0;31m \u001b[0muploaded\u001b[0m \u001b[0;34m=\u001b[0m \u001b[0mfiles\u001b[0m\u001b[0;34m.\u001b[0m\u001b[0mupload\u001b[0m\u001b[0;34m(\u001b[0m\u001b[0;34m)\u001b[0m\u001b[0;34m\u001b[0m\u001b[0;34m\u001b[0m\u001b[0m\n\u001b[0m",
            "\u001b[0;32m/usr/local/lib/python3.7/dist-packages/google/colab/files.py\u001b[0m in \u001b[0;36mupload\u001b[0;34m()\u001b[0m\n\u001b[1;32m     65\u001b[0m   \"\"\"\n\u001b[1;32m     66\u001b[0m \u001b[0;34m\u001b[0m\u001b[0m\n\u001b[0;32m---> 67\u001b[0;31m   \u001b[0muploaded_files\u001b[0m \u001b[0;34m=\u001b[0m \u001b[0m_upload_files\u001b[0m\u001b[0;34m(\u001b[0m\u001b[0mmultiple\u001b[0m\u001b[0;34m=\u001b[0m\u001b[0;32mTrue\u001b[0m\u001b[0;34m)\u001b[0m\u001b[0;34m\u001b[0m\u001b[0;34m\u001b[0m\u001b[0m\n\u001b[0m\u001b[1;32m     68\u001b[0m   \u001b[0;31m# Mapping from original filename to filename as saved locally.\u001b[0m\u001b[0;34m\u001b[0m\u001b[0;34m\u001b[0m\u001b[0;34m\u001b[0m\u001b[0m\n\u001b[1;32m     69\u001b[0m   \u001b[0mlocal_filenames\u001b[0m \u001b[0;34m=\u001b[0m \u001b[0mdict\u001b[0m\u001b[0;34m(\u001b[0m\u001b[0;34m)\u001b[0m\u001b[0;34m\u001b[0m\u001b[0;34m\u001b[0m\u001b[0m\n",
            "\u001b[0;32m/usr/local/lib/python3.7/dist-packages/google/colab/files.py\u001b[0m in \u001b[0;36m_upload_files\u001b[0;34m(multiple)\u001b[0m\n\u001b[1;32m    147\u001b[0m   \u001b[0mfiles\u001b[0m \u001b[0;34m=\u001b[0m \u001b[0m_collections\u001b[0m\u001b[0;34m.\u001b[0m\u001b[0mdefaultdict\u001b[0m\u001b[0;34m(\u001b[0m\u001b[0mbytes\u001b[0m\u001b[0;34m)\u001b[0m\u001b[0;34m\u001b[0m\u001b[0;34m\u001b[0m\u001b[0m\n\u001b[1;32m    148\u001b[0m \u001b[0;34m\u001b[0m\u001b[0m\n\u001b[0;32m--> 149\u001b[0;31m   \u001b[0;32mwhile\u001b[0m \u001b[0mresult\u001b[0m\u001b[0;34m[\u001b[0m\u001b[0;34m'action'\u001b[0m\u001b[0;34m]\u001b[0m \u001b[0;34m!=\u001b[0m \u001b[0;34m'complete'\u001b[0m\u001b[0;34m:\u001b[0m\u001b[0;34m\u001b[0m\u001b[0;34m\u001b[0m\u001b[0m\n\u001b[0m\u001b[1;32m    150\u001b[0m     result = _output.eval_js(\n\u001b[1;32m    151\u001b[0m         'google.colab._files._uploadFilesContinue(\"{output_id}\")'.format(\n",
            "\u001b[0;31mTypeError\u001b[0m: 'NoneType' object is not subscriptable"
          ]
        }
      ],
      "source": [
        "from google.colab import files\n",
        "uploaded = files.upload()"
      ]
    },
    {
      "cell_type": "code",
      "execution_count": null,
      "metadata": {
        "colab": {
          "background_save": true
        },
        "id": "4g4i_brg5Ahr"
      },
      "outputs": [],
      "source": [
        "!pip install pandasql"
      ]
    },
    {
      "cell_type": "code",
      "execution_count": null,
      "metadata": {
        "colab": {
          "background_save": true
        },
        "id": "wb3lH9GU5Ahs"
      },
      "outputs": [],
      "source": [
        "youtube_df = pd.read_csv('Trending videos on youtube dataset.csv')\n",
        "youtube_df.head(3)"
      ]
    },
    {
      "cell_type": "code",
      "execution_count": null,
      "metadata": {
        "colab": {
          "background_save": true
        },
        "id": "H4eX2vh85Aht"
      },
      "outputs": [],
      "source": [
        "youtube_df.describe()"
      ]
    },
    {
      "cell_type": "code",
      "execution_count": null,
      "metadata": {
        "colab": {
          "background_save": true
        },
        "id": "MIVaXFQw5Aht"
      },
      "outputs": [],
      "source": [
        "youtube_df.info()"
      ]
    },
    {
      "cell_type": "code",
      "execution_count": null,
      "metadata": {
        "colab": {
          "background_save": true
        },
        "id": "2iKrNN9b5Ahu"
      },
      "outputs": [],
      "source": [
        "# unique values in each column\n",
        "youtube_df.nunique()"
      ]
    },
    {
      "cell_type": "code",
      "execution_count": null,
      "metadata": {
        "colab": {
          "background_save": true
        },
        "id": "lUWguJ5C5Ahu"
      },
      "outputs": [],
      "source": [
        "print(youtube_df.shape)"
      ]
    },
    {
      "cell_type": "code",
      "execution_count": null,
      "metadata": {
        "colab": {
          "background_save": true
        },
        "id": "cE8VApz85Ahv"
      },
      "outputs": [],
      "source": [
        "# check null values\n",
        "null_count = youtube_df.isnull().sum()\n",
        "null_count"
      ]
    },
    {
      "cell_type": "code",
      "execution_count": null,
      "metadata": {
        "colab": {
          "background_save": true
        },
        "id": "grucmnVf5Ahw"
      },
      "outputs": [],
      "source": [
        "# use for loop to check null \n",
        "# result is consistent with the info() function above\n",
        "\n",
        "for col in youtube_df.columns:\n",
        "    pct_missing = np.mean(youtube_df[col].isnull())\n",
        "    print('{} - {}%'.format(col, pct_missing))"
      ]
    },
    {
      "cell_type": "code",
      "execution_count": null,
      "metadata": {
        "colab": {
          "background_save": true
        },
        "id": "oXr5sN1M5Ahw"
      },
      "outputs": [],
      "source": [
        "# convert durationSec to min and sec and add the two columns to df\n",
        "from datetime import datetime \n",
        "\n",
        "youtube_df['play_min'] = youtube_df['durationSec']//60\n",
        "# youtube_df['play_min']\n",
        "\n",
        "youtube_df['play_sec'] = youtube_df['durationSec'] - youtube_df['play_min']*60\n",
        "# youtube_df['play_sec'] \n",
        "youtube_df.head()"
      ]
    },
    {
      "cell_type": "code",
      "execution_count": null,
      "metadata": {
        "colab": {
          "background_save": true
        },
        "id": "DH_DAr3G5Ahx"
      },
      "outputs": [],
      "source": [
        "youtube_df.videoDescription.fillna('No description available', inplace = True)\n",
        "youtube_df.head(3)"
      ]
    },
    {
      "cell_type": "code",
      "execution_count": null,
      "metadata": {
        "colab": {
          "background_save": true
        },
        "id": "4-fPGRy95Ahy"
      },
      "outputs": [],
      "source": [
        "# find the top 10 most liked youtube videos in the dataset (like likecount)\n",
        "# use panda sql\n",
        "import pandasql as ps # SQL on Pandas Dataframe\n",
        "\n",
        "top_100_liked_query = '''\n",
        "\n",
        "SELECT videoTitle, videoDescription,channelId, \n",
        "channelTitle, videoId, durationSec, likeCount,\n",
        "commentCount, videoCategoryLabel,play_min, play_sec\n",
        "\n",
        "FROM youtube_df\n",
        "ORDER BY likeCount DESC\n",
        "LIMIT 100\n",
        "\n",
        "'''\n",
        "top_100_liked_df = ps.sqldf(top_100_liked_query, globals())\n",
        "top_100_liked_df.head()"
      ]
    },
    {
      "cell_type": "code",
      "execution_count": null,
      "metadata": {
        "colab": {
          "background_save": true
        },
        "id": "hSz6nGyO5Ahy"
      },
      "outputs": [],
      "source": [
        "# tokenize the text from the youtube df\n",
        "import nltk\n",
        "from nltk.tokenize import word_tokenize\n",
        "import string"
      ]
    },
    {
      "cell_type": "code",
      "execution_count": null,
      "metadata": {
        "colab": {
          "background_save": true
        },
        "id": "FIT-ql005Ahz"
      },
      "outputs": [],
      "source": [
        "# # all the stopwords are in lowercase format\n",
        "from nltk.corpus import stopwords\n",
        "import nltk\n",
        "nltk.download('stopwords')\n",
        "\n",
        "stop_words = set(stopwords.words(\"english\"))"
      ]
    },
    {
      "cell_type": "code",
      "execution_count": null,
      "metadata": {
        "colab": {
          "background_save": true
        },
        "id": "9vxeZkln5Ahz"
      },
      "outputs": [],
      "source": [
        "# make a list of video category label\n",
        "top_cat = top_100_liked_df['videoCategoryLabel'].values.tolist()\n",
        "# top_des "
      ]
    },
    {
      "cell_type": "code",
      "execution_count": null,
      "metadata": {
        "colab": {
          "background_save": true
        },
        "id": "dQ9RvtYR5Ahz"
      },
      "outputs": [],
      "source": [
        "from nltk.tokenize import word_tokenize\n",
        "import string\n",
        "\n",
        "def tokenized_cat(videos):\n",
        "  answer = []\n",
        "  \n",
        "  for single in videos:\n",
        "    for others in nltk.word_tokenize(single): \n",
        "      others = others.lower()\n",
        "      if others not in stop_words and others.isalpha():\n",
        "        answer.append(others)\n",
        "\n",
        "  return answer\n"
      ]
    },
    {
      "cell_type": "code",
      "execution_count": null,
      "metadata": {
        "colab": {
          "background_save": true
        },
        "id": "PG2nTvKN5Ah0"
      },
      "outputs": [],
      "source": [
        "# call the function and flatten the tokens\n",
        "import nltk\n",
        "nltk.download('punkt')\n",
        "\n",
        "top_cat_list = list(tokenized_cat(top_cat))\n",
        "# top_cat_tokens = [*set(top_cat_tokens)]\n",
        "# top_cat_list "
      ]
    },
    {
      "cell_type": "code",
      "execution_count": null,
      "metadata": {
        "colab": {
          "background_save": true
        },
        "id": "50t5B1055Ah0"
      },
      "outputs": [],
      "source": [
        "from collections import Counter\n",
        "# find the 20 most commen words in the category label\n",
        "top_cat_most_common = Counter(top_cat_list).most_common(15)\n",
        "top_cat_most_common"
      ]
    },
    {
      "cell_type": "code",
      "execution_count": null,
      "metadata": {
        "colab": {
          "background_save": true
        },
        "id": "-9jMs4mW5Ah0"
      },
      "outputs": [],
      "source": [
        "# randomly sample 1 million tokens from the the top description tokens\n",
        "import random\n",
        "top_cat_sample = Counter(random.sample(top_cat, 100))"
      ]
    },
    {
      "cell_type": "code",
      "execution_count": null,
      "metadata": {
        "colab": {
          "background_save": true
        },
        "id": "TCwcUfaj5Ah1"
      },
      "outputs": [],
      "source": [
        "from nltk.corpus.reader import wordlist\n",
        "from nltk.translate.meteor_score import wordnetsyn_match\n",
        "import wordcloud\n",
        "import numpy as np\n",
        "from PIL import Image\n",
        "import os\n",
        "\n",
        "from matplotlib import pyplot as plt\n",
        "\n",
        "import matplotlib.pyplot as plt \n",
        "def plot_word_cloud(list):\n",
        "\n",
        "  things_for_cloud = \"\"\n",
        "  words = []\n",
        "    \n",
        "  for element in list:\n",
        "    words.append(element[0])\n",
        "    things_for_cloud += ' '.join(words) + ''\n",
        "  \n",
        "  # mask =np.array(Image.open('/kaggle/input/star-image/star.png'))\n",
        "  # generate word cloud\n",
        "  actual_cloud = wordcloud.WordCloud(width = 500, height = 500, prefer_horizontal= 0.88, \\\n",
        "                                     mask = None, contour_width = 0, contour_color = 'blue', \\\n",
        "                                     scale = 1, min_font_size = 6, font_step = 1, max_words = 100,\\\n",
        "                                     background_color = 'black', max_font_size = None, mode = 'RGB',\\\n",
        "                                     relative_scaling='auto', color_func = None, collocations = True,\\\n",
        "                                     colormap = 'rainbow', normalize_plurals= True, repeat = False, \\\n",
        "                                     random_state = 1, include_numbers = False).generate(things_for_cloud)\n",
        "  # plot word cloud\n",
        "  plt.figure(figsize = (8, 8), facecolor = None)\n",
        "  plt.imshow(actual_cloud)\n",
        "  plt.axis('off')\n",
        "  plt.tight_layout(pad = 0)\n",
        "\n",
        "  plt.show()\n",
        "\n",
        "plot_word_cloud(top_cat_most_common)"
      ]
    },
    {
      "cell_type": "code",
      "execution_count": null,
      "metadata": {
        "colab": {
          "background_save": true
        },
        "id": "fSgxtU3h5Ah3"
      },
      "outputs": [],
      "source": [
        "# plotting histograms\n",
        "youtube_df.hist(bins = 60, figsize =(20, 15)); "
      ]
    },
    {
      "cell_type": "code",
      "execution_count": null,
      "metadata": {
        "colab": {
          "background_save": true
        },
        "id": "ye55VUBf5Ah3"
      },
      "outputs": [],
      "source": [
        "# find correlation between viewcount and likecount\n",
        "youtube_df['viewCount'].corr(youtube_df['likeCount'])"
      ]
    },
    {
      "cell_type": "code",
      "execution_count": null,
      "metadata": {
        "colab": {
          "background_save": true
        },
        "id": "7dpA4mmb5Ah4"
      },
      "outputs": [],
      "source": [
        "import matplotlib\n",
        "import matplotlib.pyplot as plt\n",
        "\n",
        "# show correlation between the youtube videos view count and like count in the df\n",
        "# very strong positive correlation between the two variables\n",
        "\n",
        "plt.scatter(x = youtube_df['viewCount'], y = youtube_df['likeCount']) \n",
        "plt.title ('YouTube view count vs. like count')\n",
        "plt.xlabel('YouTube view count')\n",
        "plt.ylabel('like count')\n",
        "plt.show()"
      ]
    },
    {
      "cell_type": "code",
      "execution_count": null,
      "metadata": {
        "colab": {
          "background_save": true
        },
        "id": "EzTOP7RB5Ah5"
      },
      "outputs": [],
      "source": [
        "import seaborn as sns\n",
        "# use seaborn to show the strong positive correlation\n",
        "sns.regplot(x = 'likeCount', y = 'viewCount', data = youtube_df, scatter_kws={\"color\": 'blue'}, line_kws = {'color': \"red\"});"
      ]
    },
    {
      "cell_type": "code",
      "execution_count": null,
      "metadata": {
        "colab": {
          "background_save": true
        },
        "id": "o7d_qKLH5Ah5"
      },
      "outputs": [],
      "source": [
        "# find correlation between durationSec and viewcount\n",
        "# almost no correlation between the two variables\n",
        "\n",
        "youtube_df['durationSec'].corr(youtube_df['viewCount'])"
      ]
    },
    {
      "cell_type": "code",
      "execution_count": null,
      "metadata": {
        "colab": {
          "background_save": true
        },
        "id": "uQzTq4mf5Ah6"
      },
      "outputs": [],
      "source": [
        "# find out the correlations\n",
        "\n",
        "youtube_df.corr(method = 'pearson')"
      ]
    },
    {
      "cell_type": "code",
      "execution_count": null,
      "metadata": {
        "colab": {
          "background_save": true
        },
        "id": "eTxzMw-j5Ah6"
      },
      "outputs": [],
      "source": [
        "# heatmap\n",
        "# use heatmap to demonstration correlation; brighter colors mean higher corr\n",
        "fig, ax = plt.subplots(figsize = (16, 8))\n",
        "correlation_matrix = youtube_df.corr(method = 'pearson')\n",
        "sns.heatmap(correlation_matrix, annot = True, fmt = '1.2f', annot_kws = {'size' : 10}, linewidth = 1)\n",
        "plt.show()"
      ]
    },
    {
      "cell_type": "code",
      "execution_count": null,
      "metadata": {
        "colab": {
          "background_save": true
        },
        "id": "zUNFJCkV5Ah6"
      },
      "outputs": [],
      "source": [
        "# map the correlation between commentCount and all other variables\n",
        "\n",
        "correlation_new = abs(youtube_df.corr())\n",
        "plt.figure(figsize=(10,8))\n",
        "plt.plot(correlation_new[\"commentCount\"].sort_values(ascending=False)[1:],label=\"Correlation\",color=\"red\")\n",
        "plt.ylabel(\"Correlation\")\n",
        "plt.xlabel(\"YouTube videos indicators\")\n",
        "plt.legend()\n",
        "plt.tight_layout()\n",
        "plt.grid(True)\n",
        "plt.show()"
      ]
    }
  ],
  "metadata": {
    "colab": {
      "provenance": [],
      "include_colab_link": true
    },
    "kernelspec": {
      "display_name": "Python 3",
      "language": "python",
      "name": "python3"
    },
    "language_info": {
      "codemirror_mode": {
        "name": "ipython",
        "version": 3
      },
      "file_extension": ".py",
      "mimetype": "text/x-python",
      "name": "python",
      "nbconvert_exporter": "python",
      "pygments_lexer": "ipython3",
      "version": "3.7.12"
    }
  },
  "nbformat": 4,
  "nbformat_minor": 0
}